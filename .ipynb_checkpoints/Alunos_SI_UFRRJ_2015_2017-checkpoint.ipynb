{
 "cells": [
  {
   "cell_type": "code",
   "execution_count": 18,
   "metadata": {
    "collapsed": true
   },
   "outputs": [],
   "source": [
    "#Importando as bibliotecas\n",
    "import pandas as pd\n",
    "import numpy as np\n",
    "#Inserindo matplotlib\n",
    "%matplotlib inline"
   ]
  },
  {
   "cell_type": "code",
   "execution_count": 3,
   "metadata": {},
   "outputs": [],
   "source": [
    "# Carregar o arquivo csv \n",
    "df = pd.read_csv('alunos_ingressantes_sistemas_de_informacao_UFRRJ_2015_2017.csv', sep=';', encoding='cp1252')"
   ]
  },
  {
   "cell_type": "code",
   "execution_count": 4,
   "metadata": {},
   "outputs": [
    {
     "data": {
      "text/html": [
       "<div>\n",
       "<style>\n",
       "    .dataframe thead tr:only-child th {\n",
       "        text-align: right;\n",
       "    }\n",
       "\n",
       "    .dataframe thead th {\n",
       "        text-align: left;\n",
       "    }\n",
       "\n",
       "    .dataframe tbody tr th {\n",
       "        vertical-align: top;\n",
       "    }\n",
       "</style>\n",
       "<table border=\"1\" class=\"dataframe\">\n",
       "  <thead>\n",
       "    <tr style=\"text-align: right;\">\n",
       "      <th></th>\n",
       "      <th>origem_escola</th>\n",
       "      <th>situacao</th>\n",
       "      <th>idade</th>\n",
       "      <th>nota_mat_enem</th>\n",
       "      <th>qtd_reprovacao_1_periodo</th>\n",
       "    </tr>\n",
       "  </thead>\n",
       "  <tbody>\n",
       "    <tr>\n",
       "      <th>0</th>\n",
       "      <td>particular</td>\n",
       "      <td>abandono</td>\n",
       "      <td>28.0</td>\n",
       "      <td>851.0</td>\n",
       "      <td>1.0</td>\n",
       "    </tr>\n",
       "    <tr>\n",
       "      <th>1</th>\n",
       "      <td>publico</td>\n",
       "      <td>ativo</td>\n",
       "      <td>17.0</td>\n",
       "      <td>521.0</td>\n",
       "      <td>3.0</td>\n",
       "    </tr>\n",
       "    <tr>\n",
       "      <th>2</th>\n",
       "      <td>particular</td>\n",
       "      <td>abandono</td>\n",
       "      <td>18.0</td>\n",
       "      <td>746.0</td>\n",
       "      <td>0.0</td>\n",
       "    </tr>\n",
       "    <tr>\n",
       "      <th>3</th>\n",
       "      <td>particular</td>\n",
       "      <td>abandono</td>\n",
       "      <td>18.0</td>\n",
       "      <td>729.0</td>\n",
       "      <td>0.0</td>\n",
       "    </tr>\n",
       "    <tr>\n",
       "      <th>4</th>\n",
       "      <td>particular</td>\n",
       "      <td>abandono</td>\n",
       "      <td>28.0</td>\n",
       "      <td>752.0</td>\n",
       "      <td>0.0</td>\n",
       "    </tr>\n",
       "  </tbody>\n",
       "</table>\n",
       "</div>"
      ],
      "text/plain": [
       "  origem_escola  situacao  idade  nota_mat_enem  qtd_reprovacao_1_periodo\n",
       "0    particular  abandono   28.0          851.0                       1.0\n",
       "1       publico     ativo   17.0          521.0                       3.0\n",
       "2    particular  abandono   18.0          746.0                       0.0\n",
       "3    particular  abandono   18.0          729.0                       0.0\n",
       "4    particular  abandono   28.0          752.0                       0.0"
      ]
     },
     "execution_count": 4,
     "metadata": {},
     "output_type": "execute_result"
    }
   ],
   "source": [
    "#Exibir as primeiras linhas do DataFrame\n",
    "df.head() "
   ]
  },
  {
   "cell_type": "code",
   "execution_count": 5,
   "metadata": {},
   "outputs": [
    {
     "data": {
      "text/plain": [
       "origem_escola                object\n",
       "situacao                     object\n",
       "idade                       float64\n",
       "nota_mat_enem               float64\n",
       "qtd_reprovacao_1_periodo    float64\n",
       "dtype: object"
      ]
     },
     "execution_count": 5,
     "metadata": {},
     "output_type": "execute_result"
    }
   ],
   "source": [
    "#Descrever as váriáveis dos dados\n",
    "df.dtypes"
   ]
  },
  {
   "cell_type": "code",
   "execution_count": 20,
   "metadata": {},
   "outputs": [
    {
     "name": "stdout",
     "output_type": "stream",
     "text": [
      "<class 'pandas.core.frame.DataFrame'>\n",
      "RangeIndex: 92 entries, 0 to 91\n",
      "Data columns (total 5 columns):\n",
      "origem_escola               90 non-null object\n",
      "situacao                    90 non-null object\n",
      "idade                       90 non-null float64\n",
      "nota_mat_enem               90 non-null float64\n",
      "qtd_reprovacao_1_periodo    90 non-null float64\n",
      "dtypes: float64(3), object(2)\n",
      "memory usage: 3.7+ KB\n"
     ]
    }
   ],
   "source": [
    "#Descrever matematicamente as colunas numericas\n",
    "df.info()"
   ]
  },
  {
   "cell_type": "code",
   "execution_count": 7,
   "metadata": {},
   "outputs": [
    {
     "data": {
      "text/plain": [
       "(92, 5)"
      ]
     },
     "execution_count": 7,
     "metadata": {},
     "output_type": "execute_result"
    }
   ],
   "source": [
    "#Tamanho do DataFrame (Linhas, Colunas)\n",
    "df.shape"
   ]
  },
  {
   "cell_type": "code",
   "execution_count": 21,
   "metadata": {},
   "outputs": [
    {
     "data": {
      "text/html": [
       "<div>\n",
       "<style>\n",
       "    .dataframe thead tr:only-child th {\n",
       "        text-align: right;\n",
       "    }\n",
       "\n",
       "    .dataframe thead th {\n",
       "        text-align: left;\n",
       "    }\n",
       "\n",
       "    .dataframe tbody tr th {\n",
       "        vertical-align: top;\n",
       "    }\n",
       "</style>\n",
       "<table border=\"1\" class=\"dataframe\">\n",
       "  <thead>\n",
       "    <tr style=\"text-align: right;\">\n",
       "      <th></th>\n",
       "      <th>idade</th>\n",
       "      <th>nota_mat_enem</th>\n",
       "      <th>qtd_reprovacao_1_periodo</th>\n",
       "    </tr>\n",
       "  </thead>\n",
       "  <tbody>\n",
       "    <tr>\n",
       "      <th>count</th>\n",
       "      <td>90.000000</td>\n",
       "      <td>90.000000</td>\n",
       "      <td>90.000000</td>\n",
       "    </tr>\n",
       "    <tr>\n",
       "      <th>mean</th>\n",
       "      <td>20.266667</td>\n",
       "      <td>715.188889</td>\n",
       "      <td>1.544444</td>\n",
       "    </tr>\n",
       "    <tr>\n",
       "      <th>std</th>\n",
       "      <td>2.439377</td>\n",
       "      <td>67.473156</td>\n",
       "      <td>1.615661</td>\n",
       "    </tr>\n",
       "    <tr>\n",
       "      <th>min</th>\n",
       "      <td>17.000000</td>\n",
       "      <td>521.000000</td>\n",
       "      <td>0.000000</td>\n",
       "    </tr>\n",
       "    <tr>\n",
       "      <th>25%</th>\n",
       "      <td>18.000000</td>\n",
       "      <td>677.750000</td>\n",
       "      <td>0.000000</td>\n",
       "    </tr>\n",
       "    <tr>\n",
       "      <th>50%</th>\n",
       "      <td>20.000000</td>\n",
       "      <td>723.000000</td>\n",
       "      <td>1.000000</td>\n",
       "    </tr>\n",
       "    <tr>\n",
       "      <th>75%</th>\n",
       "      <td>21.000000</td>\n",
       "      <td>748.000000</td>\n",
       "      <td>3.000000</td>\n",
       "    </tr>\n",
       "    <tr>\n",
       "      <th>max</th>\n",
       "      <td>28.000000</td>\n",
       "      <td>978.000000</td>\n",
       "      <td>7.000000</td>\n",
       "    </tr>\n",
       "  </tbody>\n",
       "</table>\n",
       "</div>"
      ],
      "text/plain": [
       "           idade  nota_mat_enem  qtd_reprovacao_1_periodo\n",
       "count  90.000000      90.000000                 90.000000\n",
       "mean   20.266667     715.188889                  1.544444\n",
       "std     2.439377      67.473156                  1.615661\n",
       "min    17.000000     521.000000                  0.000000\n",
       "25%    18.000000     677.750000                  0.000000\n",
       "50%    20.000000     723.000000                  1.000000\n",
       "75%    21.000000     748.000000                  3.000000\n",
       "max    28.000000     978.000000                  7.000000"
      ]
     },
     "execution_count": 21,
     "metadata": {},
     "output_type": "execute_result"
    }
   ],
   "source": [
    "#Descrevendo mais os dados\n",
    "df.describe()"
   ]
  },
  {
   "cell_type": "code",
   "execution_count": 8,
   "metadata": {
    "collapsed": true
   },
   "outputs": [],
   "source": [
    "#Queremos nesse estudo das variáveis entender as possíveis razões do Abandono dos alunos dos cursos de Sistemas de Informação\n",
    "#da UFRRJ e quais os possiveis motivos"
   ]
  },
  {
   "cell_type": "code",
   "execution_count": 8,
   "metadata": {},
   "outputs": [
    {
     "data": {
      "text/html": [
       "<div>\n",
       "<style>\n",
       "    .dataframe thead tr:only-child th {\n",
       "        text-align: right;\n",
       "    }\n",
       "\n",
       "    .dataframe thead th {\n",
       "        text-align: left;\n",
       "    }\n",
       "\n",
       "    .dataframe tbody tr th {\n",
       "        vertical-align: top;\n",
       "    }\n",
       "</style>\n",
       "<table border=\"1\" class=\"dataframe\">\n",
       "  <thead>\n",
       "    <tr style=\"text-align: right;\">\n",
       "      <th></th>\n",
       "      <th>origem_escola</th>\n",
       "      <th>situacao</th>\n",
       "      <th>idade</th>\n",
       "      <th>nota_mat_enem</th>\n",
       "      <th>qtd_reprovacao_1_periodo</th>\n",
       "    </tr>\n",
       "  </thead>\n",
       "  <tbody>\n",
       "    <tr>\n",
       "      <th>0</th>\n",
       "      <td>particular</td>\n",
       "      <td>abandono</td>\n",
       "      <td>28.0</td>\n",
       "      <td>851.0</td>\n",
       "      <td>1.0</td>\n",
       "    </tr>\n",
       "    <tr>\n",
       "      <th>12</th>\n",
       "      <td>particular</td>\n",
       "      <td>ativo</td>\n",
       "      <td>18.0</td>\n",
       "      <td>978.0</td>\n",
       "      <td>4.0</td>\n",
       "    </tr>\n",
       "  </tbody>\n",
       "</table>\n",
       "</div>"
      ],
      "text/plain": [
       "   origem_escola  situacao  idade  nota_mat_enem  qtd_reprovacao_1_periodo\n",
       "0     particular  abandono   28.0          851.0                       1.0\n",
       "12    particular     ativo   18.0          978.0                       4.0"
      ]
     },
     "execution_count": 8,
     "metadata": {},
     "output_type": "execute_result"
    }
   ],
   "source": [
    "#Mostrar todos os dados dos alunos da SITUACAO pela nota de matemática mais alta do Curso de Sistemas\n",
    "df.loc[df.groupby('situacao')['nota_mat_enem'].idxmax()]"
   ]
  },
  {
   "cell_type": "code",
   "execution_count": 17,
   "metadata": {},
   "outputs": [
    {
     "data": {
      "text/plain": [
       "<matplotlib.axes._subplots.AxesSubplot at 0x216f6d27a90>"
      ]
     },
     "execution_count": 17,
     "metadata": {},
     "output_type": "execute_result"
    },
    {
     "data": {
      "image/png": "[encoded data removed]",
      "text/plain": [
       "<matplotlib.figure.Figure at 0x216f6f00828>"
      ]
     },
     "metadata": {},
     "output_type": "display_data"
    }
   ],
   "source": [
    "#Vamos plotat os dados em um gráfico de barra horizontal dos alunos que abadonaram o curso \n",
    "df['situacao'].value_counts(ascending=True).plot.barh(title = 'Situação dos alunos de SI entre 2015 e 2017')\n",
    "                                    "
   ]
  },
  {
   "cell_type": "code",
   "execution_count": null,
   "metadata": {
    "collapsed": true
   },
   "outputs": [],
   "source": []
  }
 ],
 "metadata": {
  "kernelspec": {
   "display_name": "Python 3",
   "language": "python",
   "name": "python3"
  }
 },
 "nbformat": 4,
 "nbformat_minor": 2
}
